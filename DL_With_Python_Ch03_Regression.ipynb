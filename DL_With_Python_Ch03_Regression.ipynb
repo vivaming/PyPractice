{
  "nbformat": 4,
  "nbformat_minor": 0,
  "metadata": {
    "colab": {
      "name": "DL_With_Python_Ch03_Regression.ipynb",
      "provenance": [],
      "collapsed_sections": [],
      "authorship_tag": "ABX9TyOR2hp/IoIf0dhTrVzHR1Wb"
    },
    "kernelspec": {
      "name": "python3",
      "display_name": "Python 3"
    },
    "language_info": {
      "name": "python"
    },
    "gpuClass": "standard",
    "accelerator": "TPU"
  },
  "cells": [
    {
      "cell_type": "code",
      "execution_count": 1,
      "metadata": {
        "id": "1yO5pMLbnIZg"
      },
      "outputs": [],
      "source": [
        "from keras.datasets import boston_housing"
      ]
    },
    {
      "cell_type": "code",
      "source": [
        "(train_data, train_targets), (test_data, test_targets) = boston_housing.load_data()"
      ],
      "metadata": {
        "id": "1po0hN61nkj4",
        "colab": {
          "base_uri": "https://localhost:8080/"
        },
        "outputId": "9149a556-67aa-4057-bc61-911ad5dcf815"
      },
      "execution_count": 2,
      "outputs": [
        {
          "output_type": "stream",
          "name": "stdout",
          "text": [
            "Downloading data from https://storage.googleapis.com/tensorflow/tf-keras-datasets/boston_housing.npz\n",
            "57344/57026 [==============================] - 0s 0us/step\n",
            "65536/57026 [==================================] - 0s 0us/step\n"
          ]
        }
      ]
    },
    {
      "cell_type": "code",
      "source": [
        "train_data.shape, test_data.shape"
      ],
      "metadata": {
        "colab": {
          "base_uri": "https://localhost:8080/"
        },
        "id": "izP_Qv_rnkmq",
        "outputId": "c21100cb-0eee-4105-fe6a-7313ada9e5b1"
      },
      "execution_count": 3,
      "outputs": [
        {
          "output_type": "execute_result",
          "data": {
            "text/plain": [
              "((404, 13), (102, 13))"
            ]
          },
          "metadata": {},
          "execution_count": 3
        }
      ]
    },
    {
      "cell_type": "markdown",
      "source": [
        "data normalization"
      ],
      "metadata": {
        "id": "NGvnByrKsRY_"
      }
    },
    {
      "cell_type": "code",
      "source": [
        "mean=train_data.mean(axis=0)"
      ],
      "metadata": {
        "id": "-no-dbt_nkpc"
      },
      "execution_count": 4,
      "outputs": []
    },
    {
      "cell_type": "code",
      "source": [
        "train_data-=mean\n",
        "std=train_data.std(axis=0)\n",
        "train_data /=std"
      ],
      "metadata": {
        "id": "HyWFTd0YnksH"
      },
      "execution_count": 5,
      "outputs": []
    },
    {
      "cell_type": "code",
      "source": [
        "test_data -=mean\n",
        "test_data /=std\n",
        "\n",
        "\n"
      ],
      "metadata": {
        "id": "ZoWprqSNnku2"
      },
      "execution_count": 6,
      "outputs": []
    },
    {
      "cell_type": "code",
      "source": [
        "from keras import models\n",
        "from keras import layers\n",
        "from keras import regularizers"
      ],
      "metadata": {
        "id": "JXkPVD4UnkxZ"
      },
      "execution_count": 7,
      "outputs": []
    },
    {
      "cell_type": "code",
      "source": [
        "# model=models.Sequential()\n",
        "# model.add(layers.Dense(64, activation='relu', input_shape=(13,)))\n",
        "# model.add(layers.Dense(64, activation='relu'))\n",
        "# model.add(layers.Dense(1))"
      ],
      "metadata": {
        "id": "mZomlXCRtZax"
      },
      "execution_count": 8,
      "outputs": []
    },
    {
      "cell_type": "code",
      "source": [
        "# model.compile(optimizer='rmsprop', \n",
        "#               loss='mse',\n",
        "#               metrics=['mae'])"
      ],
      "metadata": {
        "id": "ULUGi2iJtZc2"
      },
      "execution_count": 9,
      "outputs": []
    },
    {
      "cell_type": "code",
      "source": [
        "def build_model():\n",
        "    model = models.Sequential()\n",
        "    model.add(layers.Dense(64, activation='relu',\n",
        "                           input_shape=(train_data.shape[1],),\n",
        "                           kernel_regularizer=regularizers.l2(0.02)))\n",
        "    model.add(layers.Dense(64, activation='relu', kernel_regularizer=regularizers.l2(0.02)))\n",
        "    model.add(layers.Dense(1))\n",
        "    model.compile(optimizer='rmsprop', loss='mse', metrics=['mae'])\n",
        "    return model"
      ],
      "metadata": {
        "id": "n6_4PkftpTLJ"
      },
      "execution_count": 10,
      "outputs": []
    },
    {
      "cell_type": "markdown",
      "source": [
        "Given such a tiny training set - will apply a k-folder cross validation"
      ],
      "metadata": {
        "id": "q-DYE8ImyLrg"
      }
    },
    {
      "cell_type": "code",
      "source": [
        ""
      ],
      "metadata": {
        "id": "zCYKjz1itZfQ"
      },
      "execution_count": 10,
      "outputs": []
    },
    {
      "cell_type": "code",
      "source": [
        "import numpy as np"
      ],
      "metadata": {
        "id": "eXWiPhDktZht"
      },
      "execution_count": 11,
      "outputs": []
    },
    {
      "cell_type": "code",
      "source": [
        "k=5\n",
        "num_val_samples=len(train_data)//k"
      ],
      "metadata": {
        "id": "BjG8tb5FtZjx"
      },
      "execution_count": 12,
      "outputs": []
    },
    {
      "cell_type": "code",
      "source": [
        "num_epochs=100\n",
        "all_mae_history=[]"
      ],
      "metadata": {
        "id": "SISsupJKtZmP"
      },
      "execution_count": 13,
      "outputs": []
    },
    {
      "cell_type": "code",
      "source": [
        "for i in range(k):\n",
        "  print ('Folder: ', i)\n",
        "  val_data=train_data[i*num_val_samples:(i+1)*num_val_samples]\n",
        "  val_targets=train_targets[i*num_val_samples:(i+1)*num_val_samples]\n",
        "  # #testing the numpy slice range\n",
        "  # print(\"val:\", i*num_val_samples, \":\", (i+1)*num_val_samples)\n",
        "  # print(\"train1:\", \" :\", i * num_val_samples )\n",
        "  # print(\"train2:\", (i + 1) * num_val_samples, \":\")\n",
        "  \n",
        "  partial_train_data=np.concatenate(\n",
        "      [train_data[:i*num_val_samples],\n",
        "      train_data[(i+1)*num_val_samples:]], axis=0)\n",
        "  partial_train_targets=np.concatenate(\n",
        "      [train_targets[:i*num_val_samples],\n",
        "      train_targets[(i+1)*num_val_samples:]], axis=0)\n",
        "  print(\"train_size:\", len(partial_train_data))\n",
        "\n",
        "  model=build_model()\n",
        "  history=model.fit(partial_train_data, partial_train_targets,\n",
        "            epochs=num_epochs, batch_size=1, verbose=0,\n",
        "            validation_data=(val_data, val_targets))\n",
        "  mae_history=history.history['val_mae']\n",
        "  all_mae_history.append(mae_history)\n",
        "  # val_mse, val_mae=model.evaluate(val_data, val_targets)\n",
        "  # all_score.append(val_mae)\n",
        "    "
      ],
      "metadata": {
        "colab": {
          "base_uri": "https://localhost:8080/"
        },
        "id": "MeF87ZgbtaCJ",
        "outputId": "8c027632-26bf-490b-8a74-2205b93e113d"
      },
      "execution_count": 14,
      "outputs": [
        {
          "output_type": "stream",
          "name": "stdout",
          "text": [
            "Folder:  0\n",
            "train_size: 324\n",
            "Folder:  1\n",
            "train_size: 324\n",
            "Folder:  2\n",
            "train_size: 324\n",
            "Folder:  3\n",
            "train_size: 324\n",
            "Folder:  4\n",
            "train_size: 324\n"
          ]
        }
      ]
    },
    {
      "cell_type": "code",
      "source": [
        "np.ndarray.mean(np.array(all_mae_history),  axis=1), np.ndarray.mean(np.array(all_mae_history))"
      ],
      "metadata": {
        "colab": {
          "base_uri": "https://localhost:8080/"
        },
        "id": "475qNSuw6rco",
        "outputId": "201b6b63-9320-4c84-94d7-92fe4010c66d"
      },
      "execution_count": 34,
      "outputs": [
        {
          "output_type": "execute_result",
          "data": {
            "text/plain": [
              "(array([1.92224135, 2.68715669, 2.27422488, 2.70135185, 2.63765925]),\n",
              " 2.4445268034935)"
            ]
          },
          "metadata": {},
          "execution_count": 34
        }
      ]
    },
    {
      "cell_type": "code",
      "source": [
        "#average_mae_history = [np.mean([x[i] for x in all_mae_history]) for i in range(num_epochs)]"
      ],
      "metadata": {
        "id": "Y012khbXpr7D"
      },
      "execution_count": 15,
      "outputs": []
    },
    {
      "cell_type": "code",
      "source": [
        "import matplotlib.pyplot as plt"
      ],
      "metadata": {
        "id": "l926Xyxzz2Sm"
      },
      "execution_count": 17,
      "outputs": []
    },
    {
      "cell_type": "code",
      "source": [
        "average_mae_history=np.ndarray.mean(np.array(all_mae_history),  axis=0)\n",
        "plt.plot(range(1, num_epochs+1), average_mae_history)"
      ],
      "metadata": {
        "colab": {
          "base_uri": "https://localhost:8080/",
          "height": 282
        },
        "id": "Wbe2hwiq2wx4",
        "outputId": "d21a599e-a08d-4734-c070-d3f3e5a29ed6"
      },
      "execution_count": 24,
      "outputs": [
        {
          "output_type": "execute_result",
          "data": {
            "text/plain": [
              "[<matplotlib.lines.Line2D at 0x7fbace076610>]"
            ]
          },
          "metadata": {},
          "execution_count": 24
        },
        {
          "output_type": "display_data",
          "data": {
            "text/plain": [
              "<Figure size 432x288 with 1 Axes>"
            ],
            "image/png": "[encoded data removed]"
          },
          "metadata": {
            "needs_background": "light"
          }
        }
      ]
    },
    {
      "cell_type": "markdown",
      "source": [
        "Smooth the curve"
      ],
      "metadata": {
        "id": "D2P7iqKg4XLR"
      }
    },
    {
      "cell_type": "code",
      "source": [
        "def smooth_curve(points, factor=0.9):\n",
        "  smoothed_points = []\n",
        "  for point in points:\n",
        "    if smoothed_points:\n",
        "      previous = smoothed_points[-1]\n",
        "      smoothed_points.append(previous * factor + point * (1 - factor))\n",
        "    else:\n",
        "      smoothed_points.append(point)\n",
        "  return smoothed_points\n",
        "smooth_mae_history = smooth_curve(average_mae_history)\n",
        "plt.plot(range(1, len(smooth_mae_history)+1), smooth_mae_history)"
      ],
      "metadata": {
        "colab": {
          "base_uri": "https://localhost:8080/",
          "height": 282
        },
        "id": "zmdRXaW14b3n",
        "outputId": "6cda83c6-210a-4d73-df7a-c29fde794dd3"
      },
      "execution_count": 32,
      "outputs": [
        {
          "output_type": "execute_result",
          "data": {
            "text/plain": [
              "[<matplotlib.lines.Line2D at 0x7fbad5481190>]"
            ]
          },
          "metadata": {},
          "execution_count": 32
        },
        {
          "output_type": "display_data",
          "data": {
            "text/plain": [
              "<Figure size 432x288 with 1 Axes>"
            ],
            "image/png": "[encoded data removed]"
          },
          "metadata": {
            "needs_background": "light"
          }
        }
      ]
    }
  ]
}