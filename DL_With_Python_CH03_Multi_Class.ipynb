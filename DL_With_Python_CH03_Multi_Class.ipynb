{
  "nbformat": 4,
  "nbformat_minor": 0,
  "metadata": {
    "colab": {
      "name": "DL_With_Python_CH03_Multi_Class.ipynb",
      "provenance": [],
      "collapsed_sections": [],
      "authorship_tag": "ABX9TyO7S9tmZ1z9VEAKNqId6396",
      "include_colab_link": true
    },
    "kernelspec": {
      "name": "python3",
      "display_name": "Python 3"
    },
    "language_info": {
      "name": "python"
    },
    "gpuClass": "standard"
  },
  "cells": [
    {
      "cell_type": "markdown",
      "metadata": {
        "id": "view-in-github",
        "colab_type": "text"
      },
      "source": [
        "<a href=\"https://colab.research.google.com/github/vivaming/PyPractice/blob/master/DL_With_Python_CH03_Multi_Class.ipynb\" target=\"_parent\"><img src=\"https://colab.research.google.com/assets/colab-badge.svg\" alt=\"Open In Colab\"/></a>"
      ]
    },
    {
      "cell_type": "code",
      "source": [
        "from keras.datasets import reuters"
      ],
      "metadata": {
        "id": "wEEMEN0GnNzX"
      },
      "execution_count": 1,
      "outputs": []
    },
    {
      "cell_type": "code",
      "source": [
        "(train_data, train_labels), (test_data, test_labels) = reuters.load_data(num_words=10000)"
      ],
      "metadata": {
        "id": "-ysdpgQZnN__"
      },
      "execution_count": 2,
      "outputs": []
    },
    {
      "cell_type": "markdown",
      "source": [
        "Explore the datasets"
      ],
      "metadata": {
        "id": "ITokzDcIZbB4"
      }
    },
    {
      "cell_type": "code",
      "source": [
        "len(train_data), len(test_data), train_data.shape, test_data.shape, type(train_data)"
      ],
      "metadata": {
        "colab": {
          "base_uri": "https://localhost:8080/"
        },
        "id": "y_SHUPz8ZGhm",
        "outputId": "5bf29fee-2131-4067-e1a8-7e6b270dc619"
      },
      "execution_count": 3,
      "outputs": [
        {
          "output_type": "execute_result",
          "data": {
            "text/plain": [
              "(8982, 2246, (8982,), (2246,), numpy.ndarray)"
            ]
          },
          "metadata": {},
          "execution_count": 3
        }
      ]
    },
    {
      "cell_type": "code",
      "source": [
        "train_data[2][1:10]"
      ],
      "metadata": {
        "colab": {
          "base_uri": "https://localhost:8080/"
        },
        "id": "m5a3jqXHYngw",
        "outputId": "1cd5307e-8b0c-4eb2-aca0-c463ae9db1ff"
      },
      "execution_count": 4,
      "outputs": [
        {
          "output_type": "execute_result",
          "data": {
            "text/plain": [
              "[53, 12, 284, 15, 14, 272, 26, 53, 959]"
            ]
          },
          "metadata": {},
          "execution_count": 4
        }
      ]
    },
    {
      "cell_type": "code",
      "source": [
        "word_index=reuters.get_word_index()\n"
      ],
      "metadata": {
        "id": "OvX3cYprYnml"
      },
      "execution_count": 5,
      "outputs": []
    },
    {
      "cell_type": "code",
      "source": [
        "reverse_word_index = dict([(value, key) for (key, value) in word_index.items()]) \n",
        "decoded_newswire = ' '.join([reverse_word_index.get(i - 3, '?') for i in train_data[0]])"
      ],
      "metadata": {
        "id": "gY_8WT8HYnpP"
      },
      "execution_count": 6,
      "outputs": []
    },
    {
      "cell_type": "code",
      "source": [
        "train_labels[2]"
      ],
      "metadata": {
        "colab": {
          "base_uri": "https://localhost:8080/"
        },
        "id": "K3-rFM32Ynri",
        "outputId": "844c397a-be69-4873-eb7c-2c163cace025"
      },
      "execution_count": 7,
      "outputs": [
        {
          "output_type": "execute_result",
          "data": {
            "text/plain": [
              "3"
            ]
          },
          "metadata": {},
          "execution_count": 7
        }
      ]
    },
    {
      "cell_type": "code",
      "source": [
        ""
      ],
      "metadata": {
        "id": "f4iLEkLlbXCa"
      },
      "execution_count": 7,
      "outputs": []
    },
    {
      "cell_type": "code",
      "source": [
        "import numpy as np"
      ],
      "metadata": {
        "id": "EobV_UK3bXFR"
      },
      "execution_count": 8,
      "outputs": []
    },
    {
      "cell_type": "code",
      "source": [
        "def vectorize_sequences(sequences, dimension=10000):\n",
        "            results = np.zeros((len(sequences), dimension))\n",
        "            for i, sequence in enumerate(sequences):\n",
        "              results[i, sequence] = 1.\n",
        "            return results"
      ],
      "metadata": {
        "id": "mLMJgQq_bXHk"
      },
      "execution_count": 9,
      "outputs": []
    },
    {
      "cell_type": "code",
      "source": [
        "x_train=vectorize_sequences(train_data)\n",
        "x_test=vectorize_sequences(test_data)"
      ],
      "metadata": {
        "id": "uzWmx28tbXJ6"
      },
      "execution_count": 10,
      "outputs": []
    },
    {
      "cell_type": "code",
      "source": [
        "x_train.shape"
      ],
      "metadata": {
        "colab": {
          "base_uri": "https://localhost:8080/"
        },
        "id": "89EsuP7WdiPz",
        "outputId": "855e39da-a430-41b0-8396-95bad0dc7d1f"
      },
      "execution_count": 11,
      "outputs": [
        {
          "output_type": "execute_result",
          "data": {
            "text/plain": [
              "(8982, 10000)"
            ]
          },
          "metadata": {},
          "execution_count": 11
        }
      ]
    },
    {
      "cell_type": "code",
      "source": [
        "def to_one_hot(labels, dimension=46):\n",
        "    results=np.zeros((len(labels), dimension))\n",
        "    for i, label in enumerate(labels):\n",
        "        results[i, label] = 1.\n",
        "    return results "
      ],
      "metadata": {
        "id": "qioAAcG7bXMZ"
      },
      "execution_count": 12,
      "outputs": []
    },
    {
      "cell_type": "code",
      "source": [
        "one_hot_train_labels=to_one_hot(train_labels)\n",
        "one_hot_test_labels=to_one_hot(test_labels)"
      ],
      "metadata": {
        "id": "gl2tDPadbXOs"
      },
      "execution_count": 13,
      "outputs": []
    },
    {
      "cell_type": "markdown",
      "source": [
        "Alternatively, we can use the built-in function from keras"
      ],
      "metadata": {
        "id": "ZuqIxmUUkRlT"
      }
    },
    {
      "cell_type": "code",
      "source": [
        "\n",
        "# from keras.utils.np_utils import to_categorical\n",
        "# one_hot_train_labels = to_categorical(train_labels)\n",
        "# ne_hot_test_labels = to_categorical(test_labels)"
      ],
      "metadata": {
        "id": "0UXyKYw_jK8A"
      },
      "execution_count": 14,
      "outputs": []
    },
    {
      "cell_type": "code",
      "source": [
        "one_hot_train_labels.shape"
      ],
      "metadata": {
        "colab": {
          "base_uri": "https://localhost:8080/"
        },
        "id": "sYbeYCQEkfuz",
        "outputId": "628cdd16-495d-406e-ab93-7162243058cc"
      },
      "execution_count": 15,
      "outputs": [
        {
          "output_type": "execute_result",
          "data": {
            "text/plain": [
              "(8982, 46)"
            ]
          },
          "metadata": {},
          "execution_count": 15
        }
      ]
    },
    {
      "cell_type": "code",
      "source": [
        "from keras import models\n",
        "from keras import layers"
      ],
      "metadata": {
        "id": "jFCvENl3kf1-"
      },
      "execution_count": 16,
      "outputs": []
    },
    {
      "cell_type": "code",
      "source": [
        "\n",
        "model=models.Sequential()\n",
        "model.add(layers.Dense(64, activation='relu', input_shape=(10000, )))\n",
        "model.add(layers.Dense(64, activation='relu'))\n",
        "model.add(layers.Dense(46, activation='softmax'))\n",
        "\n"
      ],
      "metadata": {
        "id": "vtysVjrvkf32"
      },
      "execution_count": 17,
      "outputs": []
    },
    {
      "cell_type": "code",
      "source": [
        "model.compile(optimizer='rmsprop',\n",
        "              loss='categorical_crossentropy',\n",
        "              metrics=['accuracy']\n",
        ")"
      ],
      "metadata": {
        "id": "eS3NiEmkdzOW"
      },
      "execution_count": 18,
      "outputs": []
    },
    {
      "cell_type": "code",
      "source": [
        "x_val=x_train[:1000]\n",
        "partial_x_train=x_train[1000:]\n",
        "\n",
        "y_val=one_hot_train_labels[:1000]\n",
        "partial_y_train=one_hot_train_labels[1000:]"
      ],
      "metadata": {
        "id": "kHTF0fMedzRX"
      },
      "execution_count": 19,
      "outputs": []
    },
    {
      "cell_type": "code",
      "source": [
        "history=model.fit(partial_x_train, partial_y_train,\n",
        "                  epochs=20,\n",
        "                  batch_size=100,\n",
        "                  validation_data=(x_val, y_val))"
      ],
      "metadata": {
        "colab": {
          "base_uri": "https://localhost:8080/"
        },
        "id": "6NW8PiwLejRX",
        "outputId": "54029df1-256f-4827-d261-ae8ee4fd83a6"
      },
      "execution_count": 20,
      "outputs": [
        {
          "output_type": "stream",
          "name": "stdout",
          "text": [
            "Epoch 1/20\n",
            "80/80 [==============================] - 2s 21ms/step - loss: 1.7542 - accuracy: 0.6387 - val_loss: 1.1880 - val_accuracy: 0.7210\n",
            "Epoch 2/20\n",
            "80/80 [==============================] - 1s 17ms/step - loss: 0.9108 - accuracy: 0.8013 - val_loss: 0.9628 - val_accuracy: 0.7980\n",
            "Epoch 3/20\n",
            "80/80 [==============================] - 1s 18ms/step - loss: 0.5982 - accuracy: 0.8746 - val_loss: 0.8783 - val_accuracy: 0.8300\n",
            "Epoch 4/20\n",
            "80/80 [==============================] - 2s 21ms/step - loss: 0.4081 - accuracy: 0.9128 - val_loss: 0.8480 - val_accuracy: 0.8280\n",
            "Epoch 5/20\n",
            "80/80 [==============================] - 1s 18ms/step - loss: 0.2946 - accuracy: 0.9339 - val_loss: 0.8850 - val_accuracy: 0.8170\n",
            "Epoch 6/20\n",
            "80/80 [==============================] - 1s 16ms/step - loss: 0.2329 - accuracy: 0.9441 - val_loss: 0.9010 - val_accuracy: 0.8210\n",
            "Epoch 7/20\n",
            "80/80 [==============================] - 1s 12ms/step - loss: 0.1985 - accuracy: 0.9506 - val_loss: 0.9464 - val_accuracy: 0.8110\n",
            "Epoch 8/20\n",
            "80/80 [==============================] - 1s 11ms/step - loss: 0.1731 - accuracy: 0.9531 - val_loss: 0.9575 - val_accuracy: 0.8170\n",
            "Epoch 9/20\n",
            "80/80 [==============================] - 1s 12ms/step - loss: 0.1590 - accuracy: 0.9546 - val_loss: 0.9641 - val_accuracy: 0.8140\n",
            "Epoch 10/20\n",
            "80/80 [==============================] - 1s 11ms/step - loss: 0.1460 - accuracy: 0.9554 - val_loss: 1.0007 - val_accuracy: 0.8060\n",
            "Epoch 11/20\n",
            "80/80 [==============================] - 1s 11ms/step - loss: 0.1409 - accuracy: 0.9569 - val_loss: 1.0937 - val_accuracy: 0.7980\n",
            "Epoch 12/20\n",
            "80/80 [==============================] - 1s 11ms/step - loss: 0.1330 - accuracy: 0.9562 - val_loss: 1.0816 - val_accuracy: 0.8050\n",
            "Epoch 13/20\n",
            "80/80 [==============================] - 1s 11ms/step - loss: 0.1290 - accuracy: 0.9569 - val_loss: 1.1497 - val_accuracy: 0.7900\n",
            "Epoch 14/20\n",
            "80/80 [==============================] - 1s 13ms/step - loss: 0.1232 - accuracy: 0.9574 - val_loss: 1.1610 - val_accuracy: 0.8050\n",
            "Epoch 15/20\n",
            "80/80 [==============================] - 1s 12ms/step - loss: 0.1177 - accuracy: 0.9585 - val_loss: 1.2416 - val_accuracy: 0.7870\n",
            "Epoch 16/20\n",
            "80/80 [==============================] - 1s 11ms/step - loss: 0.1154 - accuracy: 0.9558 - val_loss: 1.2076 - val_accuracy: 0.7960\n",
            "Epoch 17/20\n",
            "80/80 [==============================] - 1s 11ms/step - loss: 0.1125 - accuracy: 0.9563 - val_loss: 1.2247 - val_accuracy: 0.7920\n",
            "Epoch 18/20\n",
            "80/80 [==============================] - 1s 12ms/step - loss: 0.1078 - accuracy: 0.9578 - val_loss: 1.3035 - val_accuracy: 0.7960\n",
            "Epoch 19/20\n",
            "80/80 [==============================] - 1s 12ms/step - loss: 0.1038 - accuracy: 0.9570 - val_loss: 1.2520 - val_accuracy: 0.8000\n",
            "Epoch 20/20\n",
            "80/80 [==============================] - 1s 12ms/step - loss: 0.1046 - accuracy: 0.9577 - val_loss: 1.3546 - val_accuracy: 0.7870\n"
          ]
        }
      ]
    },
    {
      "cell_type": "code",
      "source": [
        "import matplotlib.pyplot as plt"
      ],
      "metadata": {
        "id": "UcWU5b-idzTt"
      },
      "execution_count": 21,
      "outputs": []
    },
    {
      "cell_type": "code",
      "source": [
        "train_loss=history.history['loss']\n",
        "val_loss=history.history['val_loss']\n",
        "\n",
        "epochs=range(1, len(train_loss)+1)"
      ],
      "metadata": {
        "id": "uD9C_IE-dzW3"
      },
      "execution_count": 28,
      "outputs": []
    },
    {
      "cell_type": "code",
      "source": [
        "plt.plot(epochs, train_loss, 'bo', label='Training loss')\n",
        "plt.plot(epochs, val_loss, 'b', label='Validation loss')\n",
        "plt.legend()\n",
        "plt.show()"
      ],
      "metadata": {
        "colab": {
          "base_uri": "https://localhost:8080/",
          "height": 265
        },
        "id": "Qu4xqMGwdzZA",
        "outputId": "2b953b19-df6e-4c63-985d-425443fdd5a8"
      },
      "execution_count": 33,
      "outputs": [
        {
          "output_type": "display_data",
          "data": {
            "text/plain": [
              "<Figure size 432x288 with 1 Axes>"
            ],
            "image/png": "[encoded data removed]"
          },
          "metadata": {
            "needs_background": "light"
          }
        }
      ]
    },
    {
      "cell_type": "code",
      "source": [
        "predictions = model.predict(x_test)"
      ],
      "metadata": {
        "id": "uWtUGHcBhXQ5"
      },
      "execution_count": 34,
      "outputs": []
    },
    {
      "cell_type": "markdown",
      "source": [
        "Accuracy ratio"
      ],
      "metadata": {
        "id": "NvIfnDSfjeZm"
      }
    },
    {
      "cell_type": "code",
      "source": [
        "sum(np.argmax(predictions, axis=1)==test_labels)/len(test_labels)"
      ],
      "metadata": {
        "colab": {
          "base_uri": "https://localhost:8080/"
        },
        "id": "_C39deZZhXTp",
        "outputId": "6cbb6018-5579-45c8-bab4-a846e1b50cb7"
      },
      "execution_count": 45,
      "outputs": [
        {
          "output_type": "execute_result",
          "data": {
            "text/plain": [
              "0.7733748886910062"
            ]
          },
          "metadata": {},
          "execution_count": 45
        }
      ]
    },
    {
      "cell_type": "code",
      "source": [
        ""
      ],
      "metadata": {
        "id": "7EtA5sDVhXcB"
      },
      "execution_count": null,
      "outputs": []
    },
    {
      "cell_type": "code",
      "source": [
        ""
      ],
      "metadata": {
        "id": "tVnCFv0FhXeY"
      },
      "execution_count": null,
      "outputs": []
    },
    {
      "cell_type": "code",
      "source": [
        ""
      ],
      "metadata": {
        "id": "P3mj1f_GhXhP"
      },
      "execution_count": null,
      "outputs": []
    },
    {
      "cell_type": "code",
      "source": [
        ""
      ],
      "metadata": {
        "id": "iudNpmjnhXoy"
      },
      "execution_count": null,
      "outputs": []
    }
  ]
}